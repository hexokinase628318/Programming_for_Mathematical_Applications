{
 "cells": [
  {
   "cell_type": "markdown",
   "metadata": {},
   "source": [
    "# Graph Algorithms\n",
    "\n",
    "## Depth first search\n",
    "\n",
    "The *depth first search* (DFS) is a simply way of traversing a graph, starting from\n",
    "a given vertex `start`. It can be used\n",
    "for a number of important problems such as path finding, topological sorting, etc.\n",
    "It is easiest implemented using recursion. We keep track of visited vertices using\n",
    "an array of booleans, and the method is applied recursively to all neighbors of\n",
    "a vertex. Note that this strategy will first traverse an entire branch of a\n",
    "neighbor node, before continuing to the next neighbor - therefore the name\n",
    "\"depth first\"."
   ]
  },
  {
   "cell_type": "code",
   "execution_count": 1,
   "metadata": {
    "tags": [
     "hide_input",
     "hide_output"
    ]
   },
   "outputs": [],
   "source": [
    "# Uncomment below if the package is not already installed\n",
    "#using Pkg; Pkg.add(\"NBInclude\") "
   ]
  },
  {
   "cell_type": "code",
   "execution_count": 2,
   "metadata": {
    "tags": [
     "hide_input",
     "hide_output"
    ]
   },
   "outputs": [],
   "source": [
    "# Import code from previous section\n",
    "using NBInclude\n",
    "@nbinclude(\"Graph_Code.ipynb\");"
   ]
  },
  {
   "cell_type": "code",
   "execution_count": 3,
   "metadata": {},
   "outputs": [
    {
     "data": {
      "text/plain": [
       "dfs (generic function with 1 method)"
      ]
     },
     "execution_count": 3,
     "metadata": {},
     "output_type": "execute_result"
    }
   ],
   "source": [
    "function dfs(g::Graph, start)\n",
    "    visited = falses(length(g.vertices))\n",
    "    function visit(ivertex)\n",
    "        visited[ivertex] = true\n",
    "        println(\"Visiting vertex #$ivertex\")\n",
    "        for nb in g.vertices[ivertex].neighbors\n",
    "            if !visited[nb]\n",
    "                visit(nb)\n",
    "            end\n",
    "        end\n",
    "    end\n",
    "    visit(start)\n",
    "    return nothing\n",
    "end"
   ]
  },
  {
   "cell_type": "markdown",
   "metadata": {},
   "source": [
    "We can observe the order that the method visits vertices. Note that\n",
    "this highly depends on the order of the elements in `neighbors`, which\n",
    "is arbitrary (at least the way we designed it). We will continue to use the graph created in the previous section to demonstrate."
   ]
  },
  {
   "cell_type": "code",
   "execution_count": 4,
   "metadata": {},
   "outputs": [
    {
     "ename": "LoadError",
     "evalue": "UndefVarError: plot_graph not defined",
     "output_type": "error",
     "traceback": [
      "UndefVarError: plot_graph not defined",
      "",
      "Stacktrace:",
      " [1] top-level scope",
      "   @ In[4]:1",
      " [2] eval",
      "   @ ./boot.jl:360 [inlined]",
      " [3] include_string(mapexpr::typeof(REPL.softscope), mod::Module, code::String, filename::String)",
      "   @ Base ./loading.jl:1116"
     ]
    }
   ],
   "source": [
    "plot_graph(g)"
   ]
  },
  {
   "cell_type": "code",
   "execution_count": 5,
   "metadata": {
    "scrolled": true
   },
   "outputs": [
    {
     "name": "stdout",
     "output_type": "stream",
     "text": [
      "Visiting vertex #1\n",
      "Visiting vertex #2\n",
      "Visiting vertex #3\n",
      "Visiting vertex #11\n",
      "Visiting vertex #4\n",
      "Visiting vertex #5\n",
      "Visiting vertex #6\n",
      "Visiting vertex #7\n",
      "Visiting vertex #9\n",
      "Visiting vertex #10\n"
     ]
    }
   ],
   "source": [
    "dfs(g,1) "
   ]
  },
  {
   "cell_type": "markdown",
   "metadata": {},
   "source": [
    "### Path finding\n",
    "\n",
    "A simple application of the DFS method is to find a path between two vertices.\n",
    "One way to do this is to have the `visit` function return a boolean, indicating\n",
    "if the final vertex was found on the recursive call or not. If this is `true`,\n",
    "the current vertex number is added to the list of vertices in the path\n",
    "(*after* visiting the vertex)."
   ]
  },
  {
   "cell_type": "code",
   "execution_count": 6,
   "metadata": {},
   "outputs": [
    {
     "data": {
      "text/plain": [
       "find_path_dfs (generic function with 1 method)"
      ]
     },
     "execution_count": 6,
     "metadata": {},
     "output_type": "execute_result"
    }
   ],
   "source": [
    "function find_path_dfs(g::Graph, start, finish)\n",
    "    visited = falses(length(g.vertices))\n",
    "    path = Int64[]\n",
    "    function visit(ivertex)\n",
    "        visited[ivertex] = true\n",
    "        if ivertex == finish\n",
    "            pushfirst!(path, ivertex)\n",
    "            return true\n",
    "        end\n",
    "        for nb in g.vertices[ivertex].neighbors\n",
    "            if !visited[nb]\n",
    "                if visit(nb)\n",
    "                    pushfirst!(path, ivertex)\n",
    "                    return true\n",
    "                end\n",
    "            end\n",
    "        end\n",
    "        return false\n",
    "    end\n",
    "    visit(start)\n",
    "    return path\n",
    "end"
   ]
  },
  {
   "cell_type": "markdown",
   "metadata": {},
   "source": [
    "We also define a simple utility function for plotting paths in a graph:"
   ]
  },
  {
   "cell_type": "code",
   "execution_count": 7,
   "metadata": {},
   "outputs": [
    {
     "data": {
      "text/plain": [
       "plot_path (generic function with 1 method)"
      ]
     },
     "execution_count": 7,
     "metadata": {},
     "output_type": "execute_result"
    }
   ],
   "source": [
    "function plot_path(g, path)\n",
    "    xypath = [v.coordinates for v in g.vertices][path]\n",
    "    plot(first.(xypath), last.(xypath), color=\"red\", linewidth=2)\n",
    "end"
   ]
  },
  {
   "cell_type": "markdown",
   "metadata": {},
   "source": [
    "and apply the method to out graph from before. Note that this path is again\n",
    "highly dependent on the order of the `neighbors` array, and in particular it\n",
    "is in general not the shortest path between the vertices."
   ]
  },
  {
   "cell_type": "code",
   "execution_count": 8,
   "metadata": {},
   "outputs": [
    {
     "ename": "LoadError",
     "evalue": "UndefVarError: plot_graph not defined",
     "output_type": "error",
     "traceback": [
      "UndefVarError: plot_graph not defined",
      "",
      "Stacktrace:",
      " [1] top-level scope",
      "   @ In[8]:1",
      " [2] eval",
      "   @ ./boot.jl:360 [inlined]",
      " [3] include_string(mapexpr::typeof(REPL.softscope), mod::Module, code::String, filename::String)",
      "   @ Base ./loading.jl:1116"
     ]
    }
   ],
   "source": [
    "plot_graph(g)\n",
    "path = find_path_dfs(g, 10, 5)\n",
    "plot_path(g, path)\n",
    "println(\"Path from 10 to 5: $path\")"
   ]
  },
  {
   "cell_type": "markdown",
   "metadata": {},
   "source": [
    "### Other applications of DFS\n",
    "\n",
    "The DFS method can be used to a number of important graph operations, see below for\n",
    "examples (from <https://www.geeksforgeeks.org/applications-of-depth-first-search>).\n",
    "\n",
    "1. For an unweighted graph, DFS traversal of the graph produces the minimum spanning tree and all pair shortest path tree.\n",
    "\n",
    "2. **Detecting cycle in a graph**: A graph has cycle if and only if we see a back edge during DFS. So we can run DFS for the graph and check for back edges.\n",
    "\n",
    "3. **Path Finding**: We can specialize the DFS algorithm to find a path between two given vertices u and z.\n",
    "   - Call DFS(G, u) with u as the start vertex.\n",
    "   - Use a stack S to keep track of the path between the start vertex and the current vertex.\n",
    "   - As soon as destination vertex z is encountered, return the path as the\n",
    "     contents of the stack\n",
    "\n",
    "4. **Topological Sorting**: Topological Sorting is mainly used for scheduling jobs from the given dependencies among jobs. In computer science, applications of this type arise in instruction scheduling, ordering of formula cell evaluation when recomputing formula values in spreadsheets, logic synthesis, determining the order of compilation tasks to perform in makefiles, data serialization, and resolving symbol dependencies in linkers.\n",
    "\n",
    "5. To test if a graph is **bipartite**: We can augment either BFS or DFS when we first discover a new vertex, color it opposited its parents, and for each other edge, check it doesn’t link two vertices of the same color. The first vertex in any connected component can be red or black!\n",
    "\n",
    "6. Finding **Strongly Connected Components** of a graph: A directed graph is called strongly connected if there is a path from each vertex in the graph to every other vertex.\n",
    "   \n",
    "7. Solving **puzzles with only one solution**, such as mazes. (DFS can be adapted to find all solutions to a maze by only including nodes on the current path in the visited set.)"
   ]
  },
  {
   "cell_type": "markdown",
   "metadata": {},
   "source": [
    "## Breadth first search\n",
    "\n",
    "An alternative way to traverse a graph is the *Breadth First Search* (BFS) method,\n",
    "which visits all of the neighbor vertices at the present depth before moving on to\n",
    "the vertices at the next depth level. This is easiest implemented in a non-recursive\n",
    "way, using a *queue*, which can be seen as an array where new elements are added to\n",
    "the end but elements are extracted from the beginning (\"First-In-First-Out\", or FIFO)."
   ]
  },
  {
   "cell_type": "code",
   "execution_count": 9,
   "metadata": {},
   "outputs": [
    {
     "data": {
      "text/plain": [
       "bfs (generic function with 1 method)"
      ]
     },
     "execution_count": 9,
     "metadata": {},
     "output_type": "execute_result"
    }
   ],
   "source": [
    "function bfs(g::Graph, start)\n",
    "    visited = falses(length(g.vertices))\n",
    "    S = [start]\n",
    "    visited[start] = true\n",
    "    while !isempty(S)\n",
    "        ivertex = popfirst!(S)\n",
    "        println(\"Visiting vertex #$ivertex\")\n",
    "        for nb in g.vertices[ivertex].neighbors\n",
    "            if !visited[nb]\n",
    "                visited[nb] = true\n",
    "                push!(S, nb)\n",
    "            end\n",
    "        end\n",
    "    end\n",
    "end"
   ]
  },
  {
   "cell_type": "markdown",
   "metadata": {},
   "source": [
    "Running the function of the previous graph, we note that the order\n",
    "is very different from the DFS method:"
   ]
  },
  {
   "cell_type": "code",
   "execution_count": 10,
   "metadata": {},
   "outputs": [
    {
     "name": "stdout",
     "output_type": "stream",
     "text": [
      "Visiting vertex #1\n",
      "Visiting vertex #2\n",
      "Visiting vertex #10\n",
      "Visiting vertex #6\n",
      "Visiting vertex #3\n",
      "Visiting vertex #11\n",
      "Visiting vertex #9\n",
      "Visiting vertex #7\n",
      "Visiting vertex #5\n",
      "Visiting vertex #4\n"
     ]
    }
   ],
   "source": [
    "bfs(g,1)"
   ]
  },
  {
   "cell_type": "markdown",
   "metadata": {},
   "source": [
    "### Shortest path\n",
    "\n",
    "The BFS method has the property that it will visit the vertices in an order\n",
    "that corresponds to a *shortest path* from the starting vertex to each other\n",
    "vertex (that is, fewest number of edges). This is important for many\n",
    "applications, and we can modify our BFS method to return this path.\n",
    "\n",
    "Instead of simply keeping track of the visited nodes, we use an array\n",
    "`parent` which is inially zero for each vertex. After visiting a new\n",
    "vertex, `parent` is set to the vertex number of the vertex it came\n",
    "from. This means we can trace the (shortest) path from any vertex\n",
    "back to the starting vertex, and build the path."
   ]
  },
  {
   "cell_type": "code",
   "execution_count": 11,
   "metadata": {},
   "outputs": [
    {
     "data": {
      "text/plain": [
       "shortest_path_bfs (generic function with 1 method)"
      ]
     },
     "execution_count": 11,
     "metadata": {},
     "output_type": "execute_result"
    }
   ],
   "source": [
    "function shortest_path_bfs(g::Graph, start, finish)\n",
    "    parent = zeros(Int64, length(g.vertices))\n",
    "    S = [start]\n",
    "    parent[start] = start\n",
    "    while !isempty(S)\n",
    "        ivertex = popfirst!(S)\n",
    "        if ivertex == finish\n",
    "            break\n",
    "        end\n",
    "        for nb in g.vertices[ivertex].neighbors\n",
    "            if parent[nb] == 0 # Not visited yet\n",
    "                parent[nb] = ivertex\n",
    "                push!(S, nb)\n",
    "            end\n",
    "        end\n",
    "    end\n",
    "    # Build path\n",
    "    path = Int64[]\n",
    "    iv = finish\n",
    "    while true\n",
    "        pushfirst!(path, iv)\n",
    "        if iv == start\n",
    "            break\n",
    "        end\n",
    "        iv = parent[iv]\n",
    "    end\n",
    "    return path\n",
    "end\n"
   ]
  },
  {
   "cell_type": "code",
   "execution_count": 12,
   "metadata": {},
   "outputs": [
    {
     "ename": "LoadError",
     "evalue": "UndefVarError: plot_graph not defined",
     "output_type": "error",
     "traceback": [
      "UndefVarError: plot_graph not defined",
      "",
      "Stacktrace:",
      " [1] top-level scope",
      "   @ In[12]:2",
      " [2] eval",
      "   @ ./boot.jl:360 [inlined]",
      " [3] include_string(mapexpr::typeof(REPL.softscope), mod::Module, code::String, filename::String)",
      "   @ Base ./loading.jl:1116"
     ]
    }
   ],
   "source": [
    "path = shortest_path_bfs(g, 10, 5)\n",
    "plot_graph(g)\n",
    "plot_path(g, path)\n",
    "println(\"Shortest path from 10 to 5: $path\")"
   ]
  },
  {
   "cell_type": "markdown",
   "metadata": {},
   "source": [
    "### Shortest path application: Optimal trajectory\n",
    "\n",
    "Here we consider navigation on a grid, with the goal of reaching a destination\n",
    "with the fewest possible moves. Any neighbor in the grid can be reached in one\n",
    "move, unless there is a wall. This can be represented as a grid, with edges\n",
    "between vertices with admissible moves.\n",
    "\n",
    "As an example, we draw an \"obstacle course\" and create a graph that represents it:"
   ]
  },
  {
   "cell_type": "code",
   "execution_count": 13,
   "metadata": {},
   "outputs": [],
   "source": [
    "field = \"\"\"\n",
    "....O....\n",
    "O.O.O.O..\n",
    "..O...O.O\n",
    ".OOOOOO.O\n",
    "....OO..O\n",
    ".O...OOOO\n",
    ".O.......\n",
    ".OOOOOO..\n",
    "......O..\n",
    "......O..\n",
    "\"\"\"\n",
    "n = 10\n",
    "\n",
    "F = Int.(reverse(reshape(collect(field), n, n) .== 'O', dims=2))\n",
    "\n",
    "g1 = Graph([])\n",
    "nbr = 0\n",
    "for j = 1:n\n",
    "    for i = 1:n\n",
    "        nbr += 1\n",
    "        nb = Int64[]\n",
    "        for dj = -1:1\n",
    "            for di = -1:1\n",
    "                if 1 ≤ i+di ≤ n && 1 ≤ j+dj ≤ n\n",
    "                    if F[i,j] == 0 && F[i+di,j+dj] == 0\n",
    "                        push!(nb, nbr + di + n*dj)\n",
    "                    end\n",
    "                end\n",
    "            end\n",
    "        end\n",
    "        v = Vertex(nb, coordinates=[i,j])\n",
    "        push!(g1.vertices, v)\n",
    "    end\n",
    "end"
   ]
  },
  {
   "cell_type": "markdown",
   "metadata": {},
   "source": [
    "The shortest path algorithm can now find the optimal trajectory:"
   ]
  },
  {
   "cell_type": "code",
   "execution_count": 14,
   "metadata": {},
   "outputs": [
    {
     "ename": "LoadError",
     "evalue": "UndefVarError: plot_graph not defined",
     "output_type": "error",
     "traceback": [
      "UndefVarError: plot_graph not defined",
      "",
      "Stacktrace:",
      " [1] top-level scope",
      "   @ In[14]:3",
      " [2] eval",
      "   @ ./boot.jl:360 [inlined]",
      " [3] include_string(mapexpr::typeof(REPL.softscope), mod::Module, code::String, filename::String)",
      "   @ Base ./loading.jl:1116"
     ]
    }
   ],
   "source": [
    "path = shortest_path_bfs(g1, 6, 57)\n",
    "xypath = [v.coordinates for v in g1.vertices][path]\n",
    "plot_graph(g1, scale=0.5)\n",
    "plot(first.(xypath), last.(xypath), color=\"red\", linewidth=2)"
   ]
  },
  {
   "cell_type": "markdown",
   "metadata": {},
   "source": [
    "### Other applications of BFS\n",
    "\n",
    "Like the DFS method, the BFS method is also very important for a wide range of graph\n",
    "algorithms. See below for\n",
    "examples (from <https://www.geeksforgeeks.org/applications-of-breadth-first-traversal>).\n",
    "\n",
    "1) **Shortest Path and Minimum Spanning Tree for unweighted graph**: In an unweighted graph, the shortest path is the path with least number of edges. With Breadth First, we always reach a vertex from given source using the minimum number of edges. Also, in case of unweighted graphs, any spanning tree is Minimum Spanning Tree and we can use either Depth or Breadth first traversal for finding a spanning tree.\n",
    "\n",
    "2) **Peer to Peer Networks**: In Peer to Peer Networks like BitTorrent, Breadth First Search is used to find all neighbor nodes.\n",
    "\n",
    "3) **Crawlers in Search Engines**: Crawlers build index using Breadth First. The idea is to start from source page and follow all links from source and keep doing same. Depth First Traversal can also be used for crawlers, but the advantage with Breadth First Traversal is, depth or levels of the built tree can be limited.\n",
    "\n",
    "4) **Social Networking Websites**: In social networks, we can find people within a given distance ‘k’ from a person using Breadth First Search till ‘k’ levels.\n",
    "\n",
    "5) **GPS Navigation systems**: Breadth First Search is used to find all neighboring locations.\n",
    "\n",
    "6) **Broadcasting in Network**: In networks, a broadcasted packet follows Breadth First Search to reach all nodes.\n",
    "\n",
    "7) **In Garbage Collection**: Breadth First Search is used in copying garbage collection using Cheney’s algorithm. Refer this and for details. Breadth First Search is preferred over Depth First Search because of better locality of reference:\n",
    "\n",
    "8) **Cycle detection in undirected graph**: In undirected graphs, either Breadth First Search or Depth First Search can be used to detect cycle. In directed graph, only depth first search can be used.\n",
    "\n",
    "9) **Ford–Fulkerson algorithm**: In Ford-Fulkerson algorithm, we can either use Breadth First or Depth First Traversal to find the maximum flow. Breadth First Traversal is preferred as it reduces worst case time complexity to O(VE2).\n",
    "\n",
    "10) **To test if a graph is Bipartite**: We can either use Breadth First or Depth First Traversal.\n",
    "\n",
    "11) **Path Finding**: We can either use Breadth First or Depth First Traversal to find if there is a path between two vertices.\n",
    "\n",
    "12) **Finding all nodes within one connected component**: We can either use Breadth First or Depth First Traversal to find all nodes reachable from a given node."
   ]
  }
 ],
 "metadata": {
  "kernelspec": {
   "display_name": "Julia 1.6.3",
   "language": "julia",
   "name": "julia-1.6"
  },
  "language_info": {
   "file_extension": ".jl",
   "mimetype": "application/julia",
   "name": "julia",
   "version": "1.6.3"
  }
 },
 "nbformat": 4,
 "nbformat_minor": 2
}
