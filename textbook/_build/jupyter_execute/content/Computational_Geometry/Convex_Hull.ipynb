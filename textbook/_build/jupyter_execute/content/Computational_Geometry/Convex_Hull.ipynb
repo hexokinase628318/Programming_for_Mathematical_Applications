{
 "cells": [
  {
   "cell_type": "markdown",
   "metadata": {},
   "source": [
    "# Convex Hull"
   ]
  },
  {
   "cell_type": "markdown",
   "metadata": {
    "slideshow": {
     "slide_type": "slide"
    }
   },
   "source": [
    "## Point representation\n",
    "\n",
    "The first geometric entity to consider is a point. Here we will consider planar problems, so a point can be represented by its $(x,y)$ coordinates, as two `Float64` numbers in Julia. Here we will simply use a vector with 2 elements.\n",
    "\n",
    "To store a *collection of points*, we could store the $(x,y)$ coordinates as the columns or the rows of a 2D array. However, we will instead use an *array of arrays*, that is, a 1D array of all the points as 1D arrays $(x,y)$. This simplifies some of the algorithms."
   ]
  },
  {
   "cell_type": "code",
   "execution_count": 1,
   "metadata": {
    "slideshow": {
     "slide_type": "fragment"
    }
   },
   "outputs": [
    {
     "data": {
      "text/plain": [
       "10-element Vector{Vector{Float64}}:\n",
       " [0.29427335565549234, -0.3852376068424102]\n",
       " [0.3191898373538748, 0.049434356217030094]\n",
       " [0.8748155615884284, -0.4801995628810922]\n",
       " [-0.767998225561079, -0.4960744739671467]\n",
       " [-0.17950752614430496, 0.6421550173352346]\n",
       " [0.7558072688656052, -0.01878645635164385]\n",
       " [0.16794587945907719, 1.5514297406484192]\n",
       " [0.4331586012585234, 0.18220800471400997]\n",
       " [-1.2940328344865475, -1.6974619367648283]\n",
       " [-1.2874933278835297, -1.2828425576675573]"
      ]
     },
     "execution_count": 1,
     "metadata": {},
     "output_type": "execute_result"
    }
   ],
   "source": [
    "p = [ randn(2) for i = 1:10 ] # 10 random points - note array-of-array"
   ]
  },
  {
   "cell_type": "code",
   "execution_count": 2,
   "metadata": {
    "slideshow": {
     "slide_type": "subslide"
    }
   },
   "outputs": [
    {
     "data": {
      "image/png": "[encoded data removed]",
      "text/plain": [
       "Figure(PyObject <Figure size 640x480 with 1 Axes>)"
      ]
     },
     "metadata": {
      "filenames": {
       "image/png": "/home/persson/Programming_for_Mathematical_Applications/textbook/_build/jupyter_execute/content/Computational_Geometry/Convex_Hull_3_0.png"
      }
     },
     "output_type": "display_data"
    }
   ],
   "source": [
    "# Plot the points as dots\n",
    "# The functions first and last simply collects the corresponding indices\n",
    "using PyPlot\n",
    "plot(first.(p), last.(p), \".\")\n",
    "axis(\"equal\"); grid(true);"
   ]
  },
  {
   "attachments": {},
   "cell_type": "markdown",
   "metadata": {
    "slideshow": {
     "slide_type": "slide"
    }
   },
   "source": [
    "## Convex hull\n",
    "\n",
    "The *convex hull* of a set $X$ of points is the smallest convex set that contains $X$. In the plane, this is a polygon through a subset of the points. Many algorithms have been proposed for computing the convex hull, and here we will focus on the *Jarvis march* algorithm, also called the *gift wrapping algorithm*.\n",
    "\n",
    "The method is illustrated below. The main steps are as follows:\n",
    "\n",
    "1. Find the leftmost point $p_0$ (smallest $x$-coordinate)\n",
    "2. Find the next point $p_1$ such that all other points are to the right of the line $p_0p_1$\n",
    "3. Repeat until $p_n=p_0$\n",
    "\n",
    "![Jarvis_march_convex_hull](jarvis_march_convex_hull.png \"Convex Hull\")\n",
    "(from <https://en.wikipedia.org/wiki/Gift_wrapping_algorithm>)"
   ]
  },
  {
   "cell_type": "markdown",
   "metadata": {
    "slideshow": {
     "slide_type": "subslide"
    }
   },
   "source": [
    "The main utility function needed in the algorithm is to decide if a point $p_2$ is to the right of the line $p_1p_3$. We do this by computing the $z$-coordinate of the cross product of the vectors $p_2-p_1$ and $p_3-p_1$, which is $>0$ if the line $p_1p_2$ is clockwise oriented to the line $p_1p_3$. *Note*: If the lines are parallel this cross product is zero, which is a special case that we for simplicity do not handle here."
   ]
  },
  {
   "cell_type": "code",
   "execution_count": 3,
   "metadata": {
    "slideshow": {
     "slide_type": "fragment"
    }
   },
   "outputs": [
    {
     "data": {
      "text/plain": [
       "clockwise_oriented (generic function with 1 method)"
      ]
     },
     "execution_count": 3,
     "metadata": {},
     "output_type": "execute_result"
    }
   ],
   "source": [
    "function clockwise_oriented(p1, p2, p3)\n",
    "    # Return true if the line-segment between points p1,p2 is clockwise\n",
    "    # oriented to the line-segment between points p1,p3\n",
    "    cross = (p3[2] - p1[2]) * (p2[1] - p1[1]) - (p3[1] - p1[1]) * (p2[2] - p1[2])\n",
    "    return cross > 0\n",
    "end"
   ]
  },
  {
   "cell_type": "code",
   "execution_count": 4,
   "metadata": {
    "slideshow": {
     "slide_type": "fragment"
    }
   },
   "outputs": [
    {
     "name": "stdout",
     "output_type": "stream",
     "text": [
      "true\n",
      "false\n"
     ]
    }
   ],
   "source": [
    "# Tests\n",
    "println(clockwise_oriented([0,0], [1,1], [2,3]))\n",
    "println(clockwise_oriented([0,0], [1,1], [3,2]))"
   ]
  },
  {
   "cell_type": "markdown",
   "metadata": {
    "slideshow": {
     "slide_type": "slide"
    }
   },
   "source": [
    "The method can now be implemented as follows. Note the two loops:\n",
    "\n",
    "1. The outer loop considers each point $p_0,p_1,\\ldots$ on the convex hull. This is a `while` loop, since we do not know beforehand how many points it will include.\n",
    "2. The inner loop finds the next point such that all other points are to the right of the corresponding line segment. This is done by computing orientations to all other points.\n",
    "\n",
    "From this, it is clear that the computational complexity of the algorithm is $\\mathcal{O}(nh)$, where $n$ is the number of points and $h$ is the number of points on the convex hull."
   ]
  },
  {
   "cell_type": "code",
   "execution_count": 5,
   "metadata": {
    "slideshow": {
     "slide_type": "fragment"
    }
   },
   "outputs": [
    {
     "data": {
      "text/plain": [
       "convex_hull (generic function with 1 method)"
      ]
     },
     "execution_count": 5,
     "metadata": {},
     "output_type": "execute_result"
    }
   ],
   "source": [
    "function convex_hull(p)\n",
    "    # Find the nodes on the convex hull of the point array p using\n",
    "    # the Jarvis march (gift wrapping) algorithm\n",
    "\n",
    "    _, pointOnHull = findmin(first.(p)) # Start at left-most point\n",
    "    hull = [pointOnHull] # Output: Vector of node indices on the convex hull\n",
    "    \n",
    "    while length(hull) ≤ 1 || hull[1] != hull[end] # Loop until closed polygon\n",
    "        nextPoint = hull[end] % length(p) + 1 # First candidate, any point except current\n",
    "        for j = 1:length(p) # Consider all other points\n",
    "            if clockwise_oriented(p[hull[end]], p[nextPoint], p[j]) # If \"more to the left\", switch\n",
    "                nextPoint = j\n",
    "            end\n",
    "        end\n",
    "        push!(hull, nextPoint) # Update current point\n",
    "    end\n",
    "    return hull\n",
    "end"
   ]
  },
  {
   "cell_type": "code",
   "execution_count": 6,
   "metadata": {
    "slideshow": {
     "slide_type": "subslide"
    }
   },
   "outputs": [
    {
     "data": {
      "image/png": "[encoded data removed]",
      "text/plain": [
       "Figure(PyObject <Figure size 640x480 with 1 Axes>)"
      ]
     },
     "metadata": {
      "filenames": {
       "image/png": "/home/persson/Programming_for_Mathematical_Applications/textbook/_build/jupyter_execute/content/Computational_Geometry/Convex_Hull_10_0.png"
      }
     },
     "output_type": "display_data"
    }
   ],
   "source": [
    "# Example: 100 random points, compute and draw the convex hull\n",
    "p = [ randn(2) for i = 1:100 ]\n",
    "hull = convex_hull(p)\n",
    "plot(first.(p), last.(p), \".\")\n",
    "plot(first.(p[hull]), last.(p[hull]))\n",
    "axis(\"equal\"); grid(true);"
   ]
  },
  {
   "cell_type": "code",
   "execution_count": null,
   "metadata": {},
   "outputs": [],
   "source": []
  }
 ],
 "metadata": {
  "kernelspec": {
   "display_name": "Julia 1.6.3",
   "language": "julia",
   "name": "julia-1.6"
  },
  "language_info": {
   "file_extension": ".jl",
   "mimetype": "application/julia",
   "name": "julia",
   "version": "1.6.3"
  }
 },
 "nbformat": 4,
 "nbformat_minor": 2
}